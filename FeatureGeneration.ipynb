{
 "cells": [
  {
   "cell_type": "code",
   "execution_count": 157,
   "metadata": {
    "collapsed": false
   },
   "outputs": [
    {
     "data": {
      "text/plain": [
       "60.20700001716614"
      ]
     },
     "execution_count": 157,
     "metadata": {},
     "output_type": "execute_result"
    }
   ],
   "source": [
    "import time\n",
    "import pandas as pd\n",
    "import numpy as np\n",
    "\n",
    "start = time.time()\n",
    "\n",
    "with open('data/c_pairs_anon_scored.feb') as f:\n",
    "    content = f.read().splitlines()\n",
    "end = time.time()\n",
    "\n",
    "end - start"
   ]
  },
  {
   "cell_type": "code",
   "execution_count": 158,
   "metadata": {
    "collapsed": true
   },
   "outputs": [],
   "source": [
    "unique_paths = set()\n",
    "pairs = []\n",
    "paths = []\n",
    "meetings = []"
   ]
  },
  {
   "cell_type": "code",
   "execution_count": 159,
   "metadata": {
    "collapsed": false,
    "scrolled": true
   },
   "outputs": [
    {
     "name": "stdout",
     "output_type": "stream",
     "text": [
      "0 :  0.0\n",
      "10000000 :  24.8410000801\n",
      "20000000 :  48.6419999599\n",
      "30000000 :  74.1759998798\n",
      "40000000 :  99.4649999142\n",
      "50000000 :  124.687000036\n",
      "60000000 :  150.070999861\n",
      "70000000 :  176.601000071\n"
     ]
    },
    {
     "data": {
      "text/plain": [
       "222.0789999961853"
      ]
     },
     "execution_count": 159,
     "metadata": {},
     "output_type": "execute_result"
    }
   ],
   "source": [
    "start = time.time()\n",
    "for i in xrange(len(content)):\n",
    "    if i % 10000000 == 0:\n",
    "        print i, ': ', time.time()-start\n",
    "    (id1, id2, path, count, numMeeting) = content[i].split('|')\n",
    "    pairs.append(''.join(sorted(list([id1, id2]))))\n",
    "    paths.append(path)\n",
    "    meetings.append(int(numMeeting))\n",
    "unique_paths = set(paths)\n",
    "end = time.time()\n",
    "end - start"
   ]
  },
  {
   "cell_type": "code",
   "execution_count": 160,
   "metadata": {
    "collapsed": false
   },
   "outputs": [
    {
     "data": {
      "text/plain": [
       "94.33899998664856"
      ]
     },
     "execution_count": 160,
     "metadata": {},
     "output_type": "execute_result"
    }
   ],
   "source": [
    "start = time.time()\n",
    "pdMeetings = pd.Series(meetings, index=pairs, dtype=np.uint8)\n",
    "end = time.time()\n",
    "end - start"
   ]
  },
  {
   "cell_type": "code",
   "execution_count": 5,
   "metadata": {
    "collapsed": false
   },
   "outputs": [
    {
     "data": {
      "text/plain": [
       "20.243000030517578"
      ]
     },
     "execution_count": 5,
     "metadata": {},
     "output_type": "execute_result"
    }
   ],
   "source": [
    "start = time.time()\n",
    "pdPaths = pd.Series(paths, index=pairs)\n",
    "end = time.time()\n",
    "end - start"
   ]
  },
  {
   "cell_type": "code",
   "execution_count": 6,
   "metadata": {
    "collapsed": false
   },
   "outputs": [
    {
     "name": "stdout",
     "output_type": "stream",
     "text": [
      "471.116000175\n"
     ]
    }
   ],
   "source": [
    "start = time.time()\n",
    "feats = pd.get_dummies(pdPaths, sparse=True)\n",
    "end = time.time()\n",
    "print end - start"
   ]
  },
  {
   "cell_type": "code",
   "execution_count": null,
   "metadata": {
    "collapsed": false
   },
   "outputs": [],
   "source": []
  },
  {
   "cell_type": "code",
   "execution_count": 8,
   "metadata": {
    "collapsed": false
   },
   "outputs": [
    {
     "name": "stdout",
     "output_type": "stream",
     "text": [
      "117.612999916\n"
     ]
    }
   ],
   "source": [
    "start = time.time()\n",
    "combinedFeats = pd.concat([feats, pdMeetings], axis=1).sample(frac=0.005)\n",
    "end = time.time()\n",
    "print end - start"
   ]
  },
  {
   "cell_type": "code",
   "execution_count": 9,
   "metadata": {
    "collapsed": false
   },
   "outputs": [
    {
     "data": {
      "text/plain": [
       "(393169, 170)"
      ]
     },
     "execution_count": 9,
     "metadata": {},
     "output_type": "execute_result"
    }
   ],
   "source": [
    "combinedFeats.shape"
   ]
  },
  {
   "cell_type": "code",
   "execution_count": null,
   "metadata": {
    "collapsed": false
   },
   "outputs": [],
   "source": [
    "%xdel combinedFeats"
   ]
  },
  {
   "cell_type": "code",
   "execution_count": 10,
   "metadata": {
    "collapsed": false
   },
   "outputs": [],
   "source": [
    "list1 = combinedFeats.columns.tolist()[:169]\n",
    "list2 = ['numOfMeetings']\n",
    "list1.extend(list2)\n",
    "combinedFeats.columns = list1"
   ]
  },
  {
   "cell_type": "code",
   "execution_count": null,
   "metadata": {
    "collapsed": false
   },
   "outputs": [],
   "source": []
  },
  {
   "cell_type": "code",
   "execution_count": null,
   "metadata": {
    "collapsed": false
   },
   "outputs": [],
   "source": [
    "# read February t_space data to create label vector"
   ]
  },
  {
   "cell_type": "code",
   "execution_count": 11,
   "metadata": {
    "collapsed": false
   },
   "outputs": [
    {
     "data": {
      "text/plain": [
       "47.60800004005432"
      ]
     },
     "execution_count": 11,
     "metadata": {},
     "output_type": "execute_result"
    }
   ],
   "source": [
    "start = time.time()\n",
    "\n",
    "with open('data/t_pairs_anon_verbs.feb.txt') as f:\n",
    "    content = f.read().splitlines()\n",
    "end = time.time()\n",
    "\n",
    "end - start"
   ]
  },
  {
   "cell_type": "code",
   "execution_count": null,
   "metadata": {
    "collapsed": false
   },
   "outputs": [],
   "source": []
  },
  {
   "cell_type": "code",
   "execution_count": 12,
   "metadata": {
    "collapsed": true
   },
   "outputs": [],
   "source": [
    "t_unique_paths = set()\n",
    "t_pairs = []\n",
    "t_paths = []\n",
    "t_interactions = []"
   ]
  },
  {
   "cell_type": "code",
   "execution_count": 13,
   "metadata": {
    "collapsed": false
   },
   "outputs": [
    {
     "data": {
      "text/plain": [
       "0.11500000953674316"
      ]
     },
     "execution_count": 13,
     "metadata": {},
     "output_type": "execute_result"
    }
   ],
   "source": [
    "start = time.time()\n",
    "for i in xrange(len(content)):\n",
    "    (id1, id2, verb, path, count, numInteraction) = content[i].split('|')\n",
    "    t_pairs.append(''.join(sorted(list([id1, id2]))))\n",
    "    t_paths.append(path)\n",
    "    t_interactions.append(int(numInteraction))\n",
    "t_unique_paths = set(t_paths)\n",
    "end = time.time()\n",
    "end - start"
   ]
  },
  {
   "cell_type": "code",
   "execution_count": null,
   "metadata": {
    "collapsed": false
   },
   "outputs": [],
   "source": []
  },
  {
   "cell_type": "code",
   "execution_count": null,
   "metadata": {
    "collapsed": false
   },
   "outputs": [],
   "source": []
  },
  {
   "cell_type": "code",
   "execution_count": null,
   "metadata": {
    "collapsed": false
   },
   "outputs": [],
   "source": []
  },
  {
   "cell_type": "code",
   "execution_count": 14,
   "metadata": {
    "collapsed": false
   },
   "outputs": [
    {
     "name": "stdout",
     "output_type": "stream",
     "text": [
      "11.6229999065\n"
     ]
    }
   ],
   "source": [
    "ut_pairs = []\n",
    "ut_paths = []\n",
    "\n",
    "start = time.time()\n",
    "for i in xrange(len(t_pairs)):\n",
    "    if t_pairs[i] not in ut_pairs:\n",
    "        ut_pairs.append(t_pairs[i])\n",
    "        ut_paths.append(t_paths[i])\n",
    "end = time.time()\n",
    "print end - start"
   ]
  },
  {
   "cell_type": "code",
   "execution_count": 15,
   "metadata": {
    "collapsed": false
   },
   "outputs": [
    {
     "data": {
      "text/plain": [
       "0.01699995994567871"
      ]
     },
     "execution_count": 15,
     "metadata": {},
     "output_type": "execute_result"
    }
   ],
   "source": [
    "start = time.time()\n",
    "pdTPaths = pd.Series(ut_paths, index=ut_pairs)\n",
    "end = time.time()\n",
    "end - start"
   ]
  },
  {
   "cell_type": "code",
   "execution_count": 16,
   "metadata": {
    "collapsed": false
   },
   "outputs": [
    {
     "name": "stdout",
     "output_type": "stream",
     "text": [
      "0.40499997139\n"
     ]
    }
   ],
   "source": [
    "start = time.time()\n",
    "t_feats = pd.get_dummies(pdTPaths, sparse=True)\n",
    "end = time.time()\n",
    "print end - start"
   ]
  },
  {
   "cell_type": "code",
   "execution_count": 17,
   "metadata": {
    "collapsed": false
   },
   "outputs": [],
   "source": [
    "t_labels = pd.Series(1, index=ut_pairs, dtype=np.uint8)"
   ]
  },
  {
   "cell_type": "code",
   "execution_count": null,
   "metadata": {
    "collapsed": false
   },
   "outputs": [],
   "source": []
  },
  {
   "cell_type": "code",
   "execution_count": 18,
   "metadata": {
    "collapsed": false
   },
   "outputs": [
    {
     "name": "stdout",
     "output_type": "stream",
     "text": [
      "0.0199999809265\n"
     ]
    }
   ],
   "source": [
    "start = time.time()\n",
    "t_combinedFeats = pd.concat([t_feats, t_labels], axis=1)\n",
    "end = time.time()\n",
    "print end - start\n",
    "\n",
    "list1 = t_combinedFeats.columns.tolist()[:81]\n",
    "list2 = ['label']\n",
    "list1.extend(list2)\n",
    "t_combinedFeats.columns = list1"
   ]
  },
  {
   "cell_type": "code",
   "execution_count": 19,
   "metadata": {
    "collapsed": false
   },
   "outputs": [
    {
     "data": {
      "text/plain": [
       "(393169, 170)"
      ]
     },
     "execution_count": 19,
     "metadata": {},
     "output_type": "execute_result"
    }
   ],
   "source": [
    "combinedFeats.shape"
   ]
  },
  {
   "cell_type": "code",
   "execution_count": 20,
   "metadata": {
    "collapsed": false
   },
   "outputs": [
    {
     "data": {
      "text/plain": [
       "(47931, 82)"
      ]
     },
     "execution_count": 20,
     "metadata": {},
     "output_type": "execute_result"
    }
   ],
   "source": [
    "t_combinedFeats.shape"
   ]
  },
  {
   "cell_type": "code",
   "execution_count": null,
   "metadata": {
    "collapsed": true
   },
   "outputs": [],
   "source": []
  },
  {
   "cell_type": "code",
   "execution_count": null,
   "metadata": {
    "collapsed": false
   },
   "outputs": [],
   "source": [
    "# sample 10%, this hopefully will allow concat next cell\n",
    "#start = time.time()\n",
    "#reducedFeats = combinedFeats.sample(frac=0.01)\n",
    "#end = time.time()\n",
    "#end - start"
   ]
  },
  {
   "cell_type": "code",
   "execution_count": null,
   "metadata": {
    "collapsed": false
   },
   "outputs": [],
   "source": []
  },
  {
   "cell_type": "code",
   "execution_count": 21,
   "metadata": {
    "collapsed": false
   },
   "outputs": [
    {
     "name": "stdout",
     "output_type": "stream",
     "text": [
      "169\n"
     ]
    },
    {
     "data": {
      "text/plain": [
       "0.2090001106262207"
      ]
     },
     "execution_count": 21,
     "metadata": {},
     "output_type": "execute_result"
    }
   ],
   "source": [
    "# want to know how many positive examples are left?!\n",
    "start = time.time()\n",
    "print len(combinedFeats.index.intersection(t_combinedFeats.index))\n",
    "end = time.time()\n",
    "end - start"
   ]
  },
  {
   "cell_type": "code",
   "execution_count": null,
   "metadata": {
    "collapsed": false
   },
   "outputs": [],
   "source": []
  },
  {
   "cell_type": "code",
   "execution_count": null,
   "metadata": {
    "collapsed": false
   },
   "outputs": [],
   "source": [
    "training.shape"
   ]
  },
  {
   "cell_type": "code",
   "execution_count": 22,
   "metadata": {
    "collapsed": false
   },
   "outputs": [
    {
     "data": {
      "text/plain": [
       "0.8539998531341553"
      ]
     },
     "execution_count": 22,
     "metadata": {},
     "output_type": "execute_result"
    }
   ],
   "source": [
    "start = time.time()\n",
    "combinedFeats = combinedFeats.to_dense()\n",
    "t_combinedFeats = t_combinedFeats.to_dense()\n",
    "training = pd.concat([combinedFeats, t_combinedFeats])\n",
    "end = time.time()\n",
    "end - start"
   ]
  },
  {
   "cell_type": "code",
   "execution_count": 23,
   "metadata": {
    "collapsed": false
   },
   "outputs": [],
   "source": [
    "training = training.reset_index()"
   ]
  },
  {
   "cell_type": "code",
   "execution_count": 24,
   "metadata": {
    "collapsed": false
   },
   "outputs": [],
   "source": [
    "training = training[~training.index.duplicated(keep='first')]"
   ]
  },
  {
   "cell_type": "code",
   "execution_count": 25,
   "metadata": {
    "collapsed": false
   },
   "outputs": [],
   "source": [
    "import cPickle as pickle"
   ]
  },
  {
   "cell_type": "code",
   "execution_count": 30,
   "metadata": {
    "collapsed": false
   },
   "outputs": [],
   "source": [
    "training = training.fillna(0)"
   ]
  },
  {
   "cell_type": "code",
   "execution_count": 207,
   "metadata": {
    "collapsed": false
   },
   "outputs": [
    {
     "data": {
      "text/plain": [
       "21.10099983215332"
      ]
     },
     "execution_count": 207,
     "metadata": {},
     "output_type": "execute_result"
    }
   ],
   "source": [
    "start = time.time()\n",
    "pickle.dump(training, open('trainingFinal.p', 'wb'))\n",
    "end = time.time()\n",
    "end - start"
   ]
  },
  {
   "cell_type": "code",
   "execution_count": 192,
   "metadata": {
    "collapsed": false
   },
   "outputs": [
    {
     "data": {
      "text/plain": [
       "(440931, 172)"
      ]
     },
     "execution_count": 192,
     "metadata": {},
     "output_type": "execute_result"
    }
   ],
   "source": [
    "training.shape"
   ]
  },
  {
   "cell_type": "code",
   "execution_count": 77,
   "metadata": {
    "collapsed": false
   },
   "outputs": [],
   "source": [
    "# drop column\n",
    "# training.drop(['index'], inplace=True,axis=1,errors='ignore')"
   ]
  },
  {
   "cell_type": "code",
   "execution_count": 206,
   "metadata": {
    "collapsed": false
   },
   "outputs": [
    {
     "data": {
      "text/plain": [
       "(47762, 172)"
      ]
     },
     "execution_count": 206,
     "metadata": {},
     "output_type": "execute_result"
    }
   ],
   "source": [
    "training.loc[training.label==1,:].shape"
   ]
  },
  {
   "cell_type": "code",
   "execution_count": 76,
   "metadata": {
    "collapsed": false
   },
   "outputs": [
    {
     "data": {
      "text/plain": [
       "61.704999923706055"
      ]
     },
     "execution_count": 76,
     "metadata": {},
     "output_type": "execute_result"
    }
   ],
   "source": [
    "start = time.time()\n",
    "training = pickle.load(open('trainingSparse.p', 'rb'))\n",
    "end = time.time()\n",
    "end - start"
   ]
  },
  {
   "cell_type": "code",
   "execution_count": 150,
   "metadata": {
    "collapsed": false
   },
   "outputs": [],
   "source": [
    "training = training.to_dense()"
   ]
  },
  {
   "cell_type": "code",
   "execution_count": 173,
   "metadata": {
    "collapsed": false
   },
   "outputs": [],
   "source": [
    "positiveTrainingEx = training.loc[training.label==1,:].index.intersection(pdMeetings.index)"
   ]
  },
  {
   "cell_type": "code",
   "execution_count": null,
   "metadata": {
    "collapsed": false
   },
   "outputs": [],
   "source": []
  },
  {
   "cell_type": "code",
   "execution_count": 189,
   "metadata": {
    "collapsed": false
   },
   "outputs": [
    {
     "data": {
      "text/plain": [
       "0.44300007820129395"
      ]
     },
     "execution_count": 189,
     "metadata": {},
     "output_type": "execute_result"
    }
   ],
   "source": [
    "# recover num of meeting for positive training examples\n",
    "start = time.time()\n",
    "for hashId in positiveTrainingEx:\n",
    "    training.at[hashId, 'numOfMeetings'] = float(pdMeetings.at[hashId])\n",
    "\n",
    "end = time.time()\n",
    "end - start"
   ]
  },
  {
   "cell_type": "code",
   "execution_count": null,
   "metadata": {
    "collapsed": false
   },
   "outputs": [],
   "source": []
  },
  {
   "cell_type": "code",
   "execution_count": 203,
   "metadata": {
    "collapsed": false
   },
   "outputs": [
    {
     "data": {
      "text/plain": [
       "(440931, 172)"
      ]
     },
     "execution_count": 203,
     "metadata": {},
     "output_type": "execute_result"
    }
   ],
   "source": [
    "training.shape"
   ]
  },
  {
   "cell_type": "code",
   "execution_count": 204,
   "metadata": {
    "collapsed": false
   },
   "outputs": [],
   "source": [
    "removes = []\n",
    "import random\n",
    "\n",
    "start = time.time()\n",
    "for hashId in training.index:\n",
    "    if training.at[hashId, 'label'] == 0:\n",
    "        if random.random() < 0.7:\n",
    "            removes.append(hashId)\n",
    "end = time.time()\n",
    "end - start\n",
    "\n",
    "training.drop(removes, axis=0, inplace=True)"
   ]
  },
  {
   "cell_type": "code",
   "execution_count": 209,
   "metadata": {
    "collapsed": false
   },
   "outputs": [
    {
     "data": {
      "text/plain": [
       "(166113, 172)"
      ]
     },
     "execution_count": 209,
     "metadata": {},
     "output_type": "execute_result"
    }
   ],
   "source": [
    "training.shape"
   ]
  },
  {
   "cell_type": "code",
   "execution_count": 110,
   "metadata": {
    "collapsed": false
   },
   "outputs": [
    {
     "name": "stdout",
     "output_type": "stream",
     "text": [
      "0 :  0.0\n",
      "10000000 :  20.6529998779\n",
      "44.8510000706\n",
      "8.08899998665\n"
     ]
    }
   ],
   "source": [
    "# creating test set\n",
    "start = time.time()\n",
    "with open('data/c_uniq_pairs_anon_scored.mar') as f:\n",
    "    content = f.read().splitlines()\n",
    "end = time.time()\n",
    "end - start\n",
    "\n",
    "unique_paths = set()\n",
    "pairs = []\n",
    "paths = []\n",
    "meetings = []\n",
    "\n",
    "start = time.time()\n",
    "for i in xrange(len(content)):\n",
    "    if i % 10000000 == 0:\n",
    "        print i, ': ', time.time()-start\n",
    "    (id1, id2, path, count, numMeeting) = content[i].split('|')\n",
    "    pairs.append(''.join(sorted(list([id1, id2]))))\n",
    "    paths.append(path)\n",
    "    meetings.append(int(numMeeting))\n",
    "unique_paths = set(paths)\n",
    "end = time.time()\n",
    "end - start\n",
    "\n",
    "start = time.time()\n",
    "pdMeetings = pd.Series(meetings, index=pairs, dtype=np.uint8)\n",
    "end = time.time()\n",
    "end - start\n",
    "\n",
    "start = time.time()\n",
    "pdPaths = pd.Series(paths, index=pairs)\n",
    "end = time.time()\n",
    "end - start\n",
    "\n",
    "start = time.time()\n",
    "feats = pd.get_dummies(pdPaths, sparse=True)\n",
    "end = time.time()\n",
    "print end - start\n",
    "\n",
    "start = time.time()\n",
    "combinedFeatsT = pd.concat([feats, pdMeetings], axis=1)\n",
    "end = time.time()\n",
    "print end - start\n",
    "\n",
    "list1 = combinedFeatsT.columns.tolist()[:181]\n",
    "list2 = ['numOfMeetings']\n",
    "list1.extend(list2)\n",
    "combinedFeatsT.columns = list1"
   ]
  },
  {
   "cell_type": "code",
   "execution_count": null,
   "metadata": {
    "collapsed": false
   },
   "outputs": [],
   "source": []
  },
  {
   "cell_type": "code",
   "execution_count": 121,
   "metadata": {
    "collapsed": false
   },
   "outputs": [],
   "source": [
    "overlap = combinedFeatsT.index.intersection(t_feats.index)"
   ]
  },
  {
   "cell_type": "code",
   "execution_count": 130,
   "metadata": {
    "collapsed": false
   },
   "outputs": [
    {
     "data": {
      "text/plain": [
       "15.434000015258789"
      ]
     },
     "execution_count": 130,
     "metadata": {},
     "output_type": "execute_result"
    }
   ],
   "source": [
    "ins = []\n",
    "start = time.time()\n",
    "for i in xrange(len(combinedFeatsT)):\n",
    "    if combinedFeatsT.index[i] in overlap:\n",
    "        ins.append(True)\n",
    "    else:\n",
    "        ins.append(False)\n",
    "end = time.time()\n",
    "end - start"
   ]
  },
  {
   "cell_type": "code",
   "execution_count": 137,
   "metadata": {
    "collapsed": false
   },
   "outputs": [],
   "source": [
    "smallFeats = combinedFeatsT.loc[ins, :].to_dense()"
   ]
  },
  {
   "cell_type": "code",
   "execution_count": 140,
   "metadata": {
    "collapsed": false
   },
   "outputs": [],
   "source": [
    "pickle.dump(smallFeats, open('smallFeats.p', 'wb'))"
   ]
  },
  {
   "cell_type": "code",
   "execution_count": 142,
   "metadata": {
    "collapsed": false
   },
   "outputs": [],
   "source": [
    "pickle.dump(t_feats, open('testPreFeats.p', 'wb'))"
   ]
  },
  {
   "cell_type": "code",
   "execution_count": 101,
   "metadata": {
    "collapsed": false
   },
   "outputs": [
    {
     "name": "stdout",
     "output_type": "stream",
     "text": [
      "0.113999843597\n",
      "0.0329999923706\n",
      "0.0820000171661\n"
     ]
    }
   ],
   "source": [
    "start = time.time()\n",
    "with open('data/t_pairs_anon.mar') as f:\n",
    "    content = f.read().splitlines()\n",
    "end = time.time()\n",
    "end - start\n",
    "\n",
    "t_unique_paths = set()\n",
    "t_pairs = []\n",
    "t_paths = []\n",
    "t_interactions = []\n",
    "\n",
    "start = time.time()\n",
    "for i in xrange(len(content)):\n",
    "    (id1, id2, path, count, numInteraction) = content[i].split('|')\n",
    "    t_pairs.append(''.join(sorted(list([id1, id2]))))\n",
    "    t_paths.append(path)\n",
    "    t_interactions.append(int(numInteraction))\n",
    "t_unique_paths = set(t_paths)\n",
    "end = time.time()\n",
    "end - start\n",
    "\n",
    "ut_pairs = []\n",
    "ut_paths = []\n",
    "\n",
    "start = time.time()\n",
    "for i in xrange(len(t_pairs)):\n",
    "    if t_pairs[i] not in ut_pairs:\n",
    "        ut_pairs.append(t_pairs[i])\n",
    "        ut_paths.append(t_paths[i])\n",
    "end = time.time()\n",
    "print end - start\n",
    "\n",
    "start = time.time()\n",
    "pdTPaths = pd.Series(ut_paths, index=ut_pairs)\n",
    "end = time.time()\n",
    "end - start\n",
    "\n",
    "start = time.time()\n",
    "t_feats = pd.get_dummies(pdTPaths, sparse=True)\n",
    "end = time.time()\n",
    "print end - start"
   ]
  },
  {
   "cell_type": "code",
   "execution_count": null,
   "metadata": {
    "collapsed": true
   },
   "outputs": [],
   "source": [
    "# combine smallFeats and t_feats\n",
    "# remove unneeded columns\n",
    "# pickle.dump"
   ]
  },
  {
   "cell_type": "code",
   "execution_count": 211,
   "metadata": {
    "collapsed": false
   },
   "outputs": [
    {
     "data": {
      "text/plain": [
       "Index([u'7eb8333dfab5acfb3224ba72', u'1cb285277a19f46500ee1715',\n",
       "       u'0347cd20bd443d6a92d4982d', u'6e8c29059f1397b1aef473a1',\n",
       "       u'4c95a5af392062212d0202db', u'bf60d9f80c0bcaabe2d58d01',\n",
       "       u'3257ca09804066369fb235be', u'd25092dacde2f6a5b409edcc',\n",
       "       u'159a7006263b95c104571735', u'0c9351b5122b991a39dc33d6',\n",
       "       ...\n",
       "       u'0df720d8ea2b84baa7ad92c8', u'699454c2d49ef86564db33cd',\n",
       "       u'95d07ca6bab3ac784f4ac30d', u'3d6a92d4982d94047ca4d77d',\n",
       "       u'3f819e80b665eda84483921e', u'2350fe7e568847d5133eec8a',\n",
       "       u'34e9930c2397699454c2d49e', u'183da0243df0fd7dba25f3c6',\n",
       "       u'90e9c294ebfed45affb1d292', u'5a06f7669d248b0162c142f5'],\n",
       "      dtype='object', length=133)"
      ]
     },
     "execution_count": 211,
     "metadata": {},
     "output_type": "execute_result"
    }
   ],
   "source": [
    "smallFeats.index.intersection(t_feats.index)"
   ]
  },
  {
   "cell_type": "code",
   "execution_count": 212,
   "metadata": {
    "collapsed": false
   },
   "outputs": [
    {
     "data": {
      "text/plain": [
       "0.06099987030029297"
      ]
     },
     "execution_count": 212,
     "metadata": {},
     "output_type": "execute_result"
    }
   ],
   "source": [
    "start = time.time()\n",
    "smallFeats2 = smallFeats.to_dense()\n",
    "t_feats2 = t_feats.to_dense()\n",
    "testing = pd.concat([smallFeats2, t_feats2])\n",
    "end = time.time()\n",
    "end - start"
   ]
  },
  {
   "cell_type": "code",
   "execution_count": 214,
   "metadata": {
    "collapsed": false
   },
   "outputs": [],
   "source": [
    "testing = testing.reset_index()"
   ]
  },
  {
   "cell_type": "code",
   "execution_count": null,
   "metadata": {
    "collapsed": false
   },
   "outputs": [],
   "source": [
    "testing = testing[~testing['index'].duplicated(keep='first')]"
   ]
  },
  {
   "cell_type": "code",
   "execution_count": 252,
   "metadata": {
    "collapsed": true
   },
   "outputs": [],
   "source": [
    "testing = testing.fillna(0)"
   ]
  },
  {
   "cell_type": "code",
   "execution_count": 225,
   "metadata": {
    "collapsed": false
   },
   "outputs": [],
   "source": [
    "testing.index = testing['index']"
   ]
  },
  {
   "cell_type": "code",
   "execution_count": 227,
   "metadata": {
    "collapsed": false
   },
   "outputs": [],
   "source": [
    "testing.drop(['index'], inplace=True,axis=1,errors='ignore')"
   ]
  },
  {
   "cell_type": "code",
   "execution_count": 229,
   "metadata": {
    "collapsed": false
   },
   "outputs": [
    {
     "data": {
      "text/plain": [
       "Index([u'm', u'mm', u'mmm', u'mmmm', u'mmmmm', u'mmmmmm', u'numOfMeetings',\n",
       "       u'r', u'rm', u'rmm',\n",
       "       ...\n",
       "       u'rrrrrrrrrrrrrrmmmmm', u'rrrrrrrrrrrrrrmmmmmm',\n",
       "       u'rrrrrrrrrrrrrrmmmmmmm', u'rrrrrrrrrrrrrrmmmmmmmm',\n",
       "       u'rrrrrrrrrrrrrrmmmmmmmmm', u'rrrrrrrrrrrrrrrmmmmmm',\n",
       "       u'rrrrrrrrrrrrrrrmmmmmmm', u'rrrrrrrrrrrrrrrmmmmmmmm',\n",
       "       u'rrrrrrrrrrrrrrrrmmmmm', u'rrrrrrrrrrrrrrrrmmmmmm'],\n",
       "      dtype='object', length=182)"
      ]
     },
     "execution_count": 229,
     "metadata": {},
     "output_type": "execute_result"
    }
   ],
   "source": [
    "testing.columns"
   ]
  },
  {
   "cell_type": "code",
   "execution_count": 230,
   "metadata": {
    "collapsed": false
   },
   "outputs": [
    {
     "data": {
      "text/plain": [
       "0.5580000877380371"
      ]
     },
     "execution_count": 230,
     "metadata": {},
     "output_type": "execute_result"
    }
   ],
   "source": [
    "start = time.time()\n",
    "pickle.dump(testing, open('testing.p', 'wb'))\n",
    "end = time.time()\n",
    "end - start"
   ]
  },
  {
   "cell_type": "code",
   "execution_count": 232,
   "metadata": {
    "collapsed": false
   },
   "outputs": [
    {
     "data": {
      "text/plain": [
       "0.0"
      ]
     },
     "execution_count": 232,
     "metadata": {},
     "output_type": "execute_result"
    }
   ],
   "source": []
  },
  {
   "cell_type": "code",
   "execution_count": 234,
   "metadata": {
    "collapsed": false
   },
   "outputs": [
    {
     "data": {
      "text/plain": [
       "164"
      ]
     },
     "execution_count": 234,
     "metadata": {},
     "output_type": "execute_result"
    }
   ],
   "source": [
    "len(cols)"
   ]
  },
  {
   "cell_type": "code",
   "execution_count": 235,
   "metadata": {
    "collapsed": false
   },
   "outputs": [
    {
     "data": {
      "text/plain": [
       "172"
      ]
     },
     "execution_count": 235,
     "metadata": {},
     "output_type": "execute_result"
    }
   ],
   "source": [
    "len(training.columns)"
   ]
  },
  {
   "cell_type": "code",
   "execution_count": 236,
   "metadata": {
    "collapsed": true
   },
   "outputs": [],
   "source": [
    "a = training[:1]"
   ]
  },
  {
   "cell_type": "code",
   "execution_count": 237,
   "metadata": {
    "collapsed": false
   },
   "outputs": [
    {
     "data": {
      "text/html": [
       "<div>\n",
       "<table border=\"1\" class=\"dataframe\">\n",
       "  <thead>\n",
       "    <tr style=\"text-align: right;\">\n",
       "      <th></th>\n",
       "      <th>label</th>\n",
       "      <th>m</th>\n",
       "      <th>mm</th>\n",
       "      <th>mmm</th>\n",
       "      <th>mmmm</th>\n",
       "      <th>mmmmm</th>\n",
       "      <th>mmmmmm</th>\n",
       "      <th>mmmmmmm</th>\n",
       "      <th>numOfMeetings</th>\n",
       "      <th>r</th>\n",
       "      <th>...</th>\n",
       "      <th>rrrrrrrrrrrrmmmmmmmmm</th>\n",
       "      <th>rrrrrrrrrrrrrmmmm</th>\n",
       "      <th>rrrrrrrrrrrrrmmmmm</th>\n",
       "      <th>rrrrrrrrrrrrrmmmmmm</th>\n",
       "      <th>rrrrrrrrrrrrrmmmmmmm</th>\n",
       "      <th>rrrrrrrrrrrrrmmmmmmmm</th>\n",
       "      <th>rrrrrrrrrrrrrmmmmmmmmm</th>\n",
       "      <th>rrrrrrrrrrrrrrmmmmm</th>\n",
       "      <th>rrrrrrrrrrrrrrmmmmmm</th>\n",
       "      <th>rrrrrrrrrrrrrrmmmmmmm</th>\n",
       "    </tr>\n",
       "    <tr>\n",
       "      <th>index</th>\n",
       "      <th></th>\n",
       "      <th></th>\n",
       "      <th></th>\n",
       "      <th></th>\n",
       "      <th></th>\n",
       "      <th></th>\n",
       "      <th></th>\n",
       "      <th></th>\n",
       "      <th></th>\n",
       "      <th></th>\n",
       "      <th></th>\n",
       "      <th></th>\n",
       "      <th></th>\n",
       "      <th></th>\n",
       "      <th></th>\n",
       "      <th></th>\n",
       "      <th></th>\n",
       "      <th></th>\n",
       "      <th></th>\n",
       "      <th></th>\n",
       "      <th></th>\n",
       "    </tr>\n",
       "  </thead>\n",
       "  <tbody>\n",
       "    <tr>\n",
       "      <th>6c05124313e2d0bc83d3a8dc</th>\n",
       "      <td>0.0</td>\n",
       "      <td>0.0</td>\n",
       "      <td>0.0</td>\n",
       "      <td>0.0</td>\n",
       "      <td>0.0</td>\n",
       "      <td>0.0</td>\n",
       "      <td>0.0</td>\n",
       "      <td>0.0</td>\n",
       "      <td>53.0</td>\n",
       "      <td>0.0</td>\n",
       "      <td>...</td>\n",
       "      <td>0.0</td>\n",
       "      <td>0.0</td>\n",
       "      <td>0.0</td>\n",
       "      <td>0.0</td>\n",
       "      <td>0.0</td>\n",
       "      <td>0.0</td>\n",
       "      <td>0.0</td>\n",
       "      <td>0.0</td>\n",
       "      <td>0.0</td>\n",
       "      <td>0.0</td>\n",
       "    </tr>\n",
       "  </tbody>\n",
       "</table>\n",
       "<p>1 rows × 172 columns</p>\n",
       "</div>"
      ],
      "text/plain": [
       "                          label    m   mm  mmm  mmmm  mmmmm  mmmmmm  mmmmmmm  \\\n",
       "index                                                                          \n",
       "6c05124313e2d0bc83d3a8dc    0.0  0.0  0.0  0.0   0.0    0.0     0.0      0.0   \n",
       "\n",
       "                          numOfMeetings    r          ...            \\\n",
       "index                                                 ...             \n",
       "6c05124313e2d0bc83d3a8dc           53.0  0.0          ...             \n",
       "\n",
       "                          rrrrrrrrrrrrmmmmmmmmm  rrrrrrrrrrrrrmmmm  \\\n",
       "index                                                                \n",
       "6c05124313e2d0bc83d3a8dc                    0.0                0.0   \n",
       "\n",
       "                          rrrrrrrrrrrrrmmmmm  rrrrrrrrrrrrrmmmmmm  \\\n",
       "index                                                               \n",
       "6c05124313e2d0bc83d3a8dc                 0.0                  0.0   \n",
       "\n",
       "                          rrrrrrrrrrrrrmmmmmmm  rrrrrrrrrrrrrmmmmmmmm  \\\n",
       "index                                                                   \n",
       "6c05124313e2d0bc83d3a8dc                   0.0                    0.0   \n",
       "\n",
       "                          rrrrrrrrrrrrrmmmmmmmmm  rrrrrrrrrrrrrrmmmmm  \\\n",
       "index                                                                   \n",
       "6c05124313e2d0bc83d3a8dc                     0.0                  0.0   \n",
       "\n",
       "                          rrrrrrrrrrrrrrmmmmmm  rrrrrrrrrrrrrrmmmmmmm  \n",
       "index                                                                  \n",
       "6c05124313e2d0bc83d3a8dc                   0.0                    0.0  \n",
       "\n",
       "[1 rows x 172 columns]"
      ]
     },
     "execution_count": 237,
     "metadata": {},
     "output_type": "execute_result"
    }
   ],
   "source": [
    "a"
   ]
  },
  {
   "cell_type": "code",
   "execution_count": 240,
   "metadata": {
    "collapsed": false
   },
   "outputs": [],
   "source": [
    "testing = pd.concat([testing, a])"
   ]
  },
  {
   "cell_type": "code",
   "execution_count": 243,
   "metadata": {
    "collapsed": false
   },
   "outputs": [],
   "source": [
    "testing.drop('6c05124313e2d0bc83d3a8dc', inplace=True)"
   ]
  },
  {
   "cell_type": "code",
   "execution_count": 248,
   "metadata": {
    "collapsed": false
   },
   "outputs": [
    {
     "data": {
      "text/plain": [
       "0.0"
      ]
     },
     "execution_count": 248,
     "metadata": {},
     "output_type": "execute_result"
    }
   ],
   "source": [
    "cols = []\n",
    "start = time.time()\n",
    "for col in testing.columns:\n",
    "    if col not in training.columns:\n",
    "        cols.append(col)\n",
    "\n",
    "end = time.time()\n",
    "end - start"
   ]
  },
  {
   "cell_type": "code",
   "execution_count": 249,
   "metadata": {
    "collapsed": false
   },
   "outputs": [
    {
     "data": {
      "text/plain": [
       "18"
      ]
     },
     "execution_count": 249,
     "metadata": {},
     "output_type": "execute_result"
    }
   ],
   "source": [
    "len(cols)"
   ]
  },
  {
   "cell_type": "code",
   "execution_count": 250,
   "metadata": {
    "collapsed": false
   },
   "outputs": [],
   "source": [
    "testing.drop(cols, inplace=True,axis=1,errors='ignore')"
   ]
  },
  {
   "cell_type": "code",
   "execution_count": 254,
   "metadata": {
    "collapsed": false
   },
   "outputs": [
    {
     "data": {
      "text/plain": [
       "0.5360000133514404"
      ]
     },
     "execution_count": 254,
     "metadata": {},
     "output_type": "execute_result"
    }
   ],
   "source": [
    "start = time.time()\n",
    "pickle.dump(testing, open('testingFinal.p', 'wb'))\n",
    "end = time.time()\n",
    "end - start"
   ]
  },
  {
   "cell_type": "code",
   "execution_count": null,
   "metadata": {
    "collapsed": false
   },
   "outputs": [],
   "source": []
  },
  {
   "cell_type": "code",
   "execution_count": null,
   "metadata": {
    "collapsed": true
   },
   "outputs": [],
   "source": []
  }
 ],
 "metadata": {
  "kernelspec": {
   "display_name": "Python 2",
   "language": "python",
   "name": "python2"
  },
  "language_info": {
   "codemirror_mode": {
    "name": "ipython",
    "version": 2
   },
   "file_extension": ".py",
   "mimetype": "text/x-python",
   "name": "python",
   "nbconvert_exporter": "python",
   "pygments_lexer": "ipython2",
   "version": "2.7.11"
  }
 },
 "nbformat": 4,
 "nbformat_minor": 0
}
