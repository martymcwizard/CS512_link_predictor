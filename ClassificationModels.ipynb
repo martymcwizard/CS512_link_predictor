{
 "cells": [
  {
   "cell_type": "code",
   "execution_count": null,
   "metadata": {
    "collapsed": true
   },
   "outputs": [],
   "source": [
    "import time\n",
    "import pandas as pd\n",
    "import numpy as np\n",
    "import cPickle as pickle\n",
    "\n",
    "# Suppress convergence warning\n",
    "import warnings\n",
    "warnings.simplefilter(\"ignore\")\n",
    "\n",
    "# Machine Learning\n",
    "import sklearn\n",
    "import sklearn.ensemble\n",
    "import sklearn.svm\n",
    "import sklearn.preprocessing\n",
    "from sklearn.cross_validation import train_test_split\n",
    "from sklearn.grid_search import GridSearchCV\n",
    "from sklearn.metrics import confusion_matrix, classification_report, roc_curve, auc"
   ]
  },
  {
   "cell_type": "code",
   "execution_count": null,
   "metadata": {
    "collapsed": true
   },
   "outputs": [],
   "source": [
    "# Plot\n",
    "import matplotlib.pyplot as plt\n",
    "from pylab import rcParams\n",
    "%matplotlib inline\n",
    "%config InlineBackend.figure_format='retina'\n",
    "rcParams['figure.figsize'] = 8, 5.5\n",
    "\n",
    "# Plot heat map of a 2D grid search\n",
    "def plotGridResults2D(x, y, x_label, y_label, grid_scores):\n",
    "    \n",
    "    scores = [s[1] for s in grid_scores]\n",
    "    scores = np.array(scores).reshape(len(x), len(y))\n",
    "\n",
    "    plt.figure()\n",
    "    plt.grid('off')\n",
    "    plt.imshow(scores, interpolation='nearest', cmap=plt.cm.RdYlGn)\n",
    "    plt.xlabel(y_label)\n",
    "    plt.ylabel(x_label)\n",
    "    plt.colorbar()\n",
    "    plt.xticks(np.arange(len(y)), y, rotation=45)\n",
    "    plt.yticks(np.arange(len(x)), x)\n",
    "    plt.title('Validation accuracy')\n",
    "\n",
    "\n",
    "def plotRoC(fpr, tpr):\n",
    "    plt.figure()\n",
    "    plt.plot(fpr, tpr, label='ROC curve (area = %0.2f)' % auc(fpr, tpr))\n",
    "    plt.plot([0, 1], [0, 1], 'k--')\n",
    "    plt.xlim([0.0, 1.0])\n",
    "    plt.ylim([0.0, 1.005])\n",
    "    plt.xlabel('False Positive Rate')\n",
    "    plt.ylabel('True Positive Rate')\n",
    "    plt.title('Receiver operating characteristic')\n",
    "    plt.legend(loc=\"lower right\")"
   ]
  },
  {
   "cell_type": "code",
   "execution_count": null,
   "metadata": {
    "collapsed": false
   },
   "outputs": [],
   "source": [
    "# import training dataset\n",
    "start = time.time()\n",
    "training = pickle.load(open('trainFinal.p', 'rb'))\n",
    "X_train = training.loc[:, training.columns[1:],]\n",
    "y_train = training.loc[:, 'label']\n",
    "end = time.time()\n",
    "end - start"
   ]
  },
  {
   "cell_type": "code",
   "execution_count": null,
   "metadata": {
    "collapsed": false
   },
   "outputs": [],
   "source": [
    "# import testing dataset\n",
    "start = time.time()\n",
    "testing = pickle.load(open('testFinal.p', 'rb'))\n",
    "X_test = testing.loc[:, training.columns[1:],]\n",
    "y_test = testing.loc[:, 'label']\n",
    "end = time.time()\n",
    "end - start"
   ]
  },
  {
   "cell_type": "code",
   "execution_count": null,
   "metadata": {
    "collapsed": false
   },
   "outputs": [],
   "source": []
  },
  {
   "cell_type": "code",
   "execution_count": null,
   "metadata": {
    "collapsed": false
   },
   "outputs": [],
   "source": [
    "# SVM CV training\n",
    "start = time.time()\n",
    "C_range = np.r_[np.logspace(-2, 9, 5)]\n",
    "gamma_range = np.r_[np.logspace(-9, 2, 5)]\n",
    "gridCoarse = GridSearchCV(sklearn.svm.SVC(C=1.0, kernel='rbf', class_weight='balanced', verbose=False, max_iter=10),\n",
    "                    {'C' : C_range, 'gamma': gamma_range},\n",
    "                   scoring='roc_auc', cv=10, n_jobs=4)\n",
    "gridCoarse.fit(X_train, y_train)\n",
    "\n",
    "C_best = np.round(np.log10(gridCoarse.best_params_['C']))\n",
    "gamma_best = np.round(np.log10(gridCoarse.best_params_['gamma']))\n",
    "\n",
    "# Fine grid\n",
    "'''\n",
    "Cfine_range = np.r_[np.logspace(C_best - 1, C_best + 1, 15)]\n",
    "gammafine_range = np.r_[np.logspace(gamma_best - 2, gamma_best + 2, 15)]\n",
    "\n",
    "gridFine = GridSearchCV(sklearn.svm.SVC(C=1.0, kernel='rbf', class_weight='balanced', verbose=False, max_iter=250),\n",
    "                    {'C' : Cfine_range, 'gamma': gammafine_range},\n",
    "                   scoring='roc_auc', cv=10, n_jobs=-1)\n",
    "gridFine.fit(X_train, y_train)\n",
    "\n",
    "svmbestClf = gridFine.best_estimator_\n",
    "svmbestClf.probability = True\n",
    "'''\n",
    "end = time.time()\n",
    "end - start"
   ]
  },
  {
   "cell_type": "code",
   "execution_count": null,
   "metadata": {
    "collapsed": false
   },
   "outputs": [],
   "source": [
    "# plot coarse grid\n",
    "plotGridResults2D(C_range, gamma_range, 'C', 'gamma', gridCoarse.grid_scores_)"
   ]
  },
  {
   "cell_type": "code",
   "execution_count": null,
   "metadata": {
    "collapsed": false
   },
   "outputs": [],
   "source": [
    "# plot fine grid\n",
    "plotGridResults2D(Cfine_range, gammafine_range, 'C', 'gamma', gridFine.grid_scores_)"
   ]
  },
  {
   "cell_type": "code",
   "execution_count": null,
   "metadata": {
    "collapsed": false
   },
   "outputs": [],
   "source": [
    "svmbestClf = gridCoarse.best_estimator_\n",
    "svmbestClf.probability = True"
   ]
  },
  {
   "cell_type": "code",
   "execution_count": null,
   "metadata": {
    "collapsed": false
   },
   "outputs": [],
   "source": [
    "svmbestClf.fit(X_train, y_train)\n",
    "y_pred = svmbestClf.predict(X_test)\n",
    "\n",
    "print sklearn.metrics.classification_report(y_test, y_pred)\n",
    "\n",
    "# Predict scores\n",
    "y_score = svmbestClf.predict_proba(X_test)[:, 1]\n",
    "\n",
    "# Plot ROC\n",
    "sfpr, stpr, _ = roc_curve(y_test, y_score)\n",
    "\n",
    "plotRoC(sfpr, stpr)"
   ]
  },
  {
   "cell_type": "code",
   "execution_count": null,
   "metadata": {
    "collapsed": false
   },
   "outputs": [],
   "source": []
  },
  {
   "cell_type": "code",
   "execution_count": null,
   "metadata": {
    "collapsed": false
   },
   "outputs": [],
   "source": [
    "######## Random Forest ##########\n",
    "start = time.time()\n",
    "depth_range = np.array([1, 2, 3, 4, 5, 6, 7, 8, 9, 10]) #, 12, 15, 18, 20, 25, 30, 50, 100])\n",
    "ntree_range = np.array([10, 20, 30, 50, 75, 100, 150, 200]) #, 250, 300, 350, 400, 450, 500, 1000])\n",
    "grid = GridSearchCV(sklearn.ensemble.RandomForestClassifier(n_estimators=50, max_depth=None,\n",
    "                                                                   max_features='auto', class_weight='balanced'),\n",
    "                    {'max_depth' : depth_range,\n",
    "                    'n_estimators' : ntree_range},\n",
    "                   cv=sklearn.cross_validation.StratifiedKFold(y_train, 10), n_jobs=4, scoring='roc_auc')\n",
    "grid.fit(X_train, y_train)\n",
    "\n",
    "plotGridResults2D(depth_range, ntree_range, 'max depth', 'n estimators', grid.grid_scores_)\n",
    "\n",
    "rbestClf = grid.best_estimator_\n",
    "#print rbestClf\n",
    "end = time.time()\n",
    "end - start\n",
    "\n",
    "# Learn on train for test\n",
    "rbestClf.fit(X_train, y_train)\n",
    "y_pred = rbestClf.predict(X_test)\n",
    "\n",
    "# Classification report\n",
    "print sklearn.metrics.classification_report(y_test, y_pred)"
   ]
  },
  {
   "cell_type": "code",
   "execution_count": null,
   "metadata": {
    "collapsed": false
   },
   "outputs": [],
   "source": [
    "y_score = rbestClf.predict_proba(X_test)[:,1]\n",
    "\n",
    "# ROC\n",
    "rfpr, rtpr, _ = roc_curve(y_test, y_score)\n",
    "plotRoC(rfpr, rtpr)"
   ]
  },
  {
   "cell_type": "code",
   "execution_count": null,
   "metadata": {
    "collapsed": false
   },
   "outputs": [],
   "source": []
  },
  {
   "cell_type": "code",
   "execution_count": null,
   "metadata": {
    "collapsed": true
   },
   "outputs": [],
   "source": []
  }
 ],
 "metadata": {
  "kernelspec": {
   "display_name": "Python 2",
   "language": "python",
   "name": "python2"
  },
  "language_info": {
   "codemirror_mode": {
    "name": "ipython",
    "version": 2
   },
   "file_extension": ".py",
   "mimetype": "text/x-python",
   "name": "python",
   "nbconvert_exporter": "python",
   "pygments_lexer": "ipython2",
   "version": "2.7.11"
  }
 },
 "nbformat": 4,
 "nbformat_minor": 0
}
