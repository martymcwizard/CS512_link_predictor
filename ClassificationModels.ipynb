{
 "cells": [
  {
   "cell_type": "code",
   "execution_count": 1,
   "metadata": {
    "collapsed": true
   },
   "outputs": [],
   "source": [
    "import time\n",
    "import pandas as pd\n",
    "import numpy as np\n",
    "import cPickle as pickle\n",
    "\n",
    "# Suppress convergence warning\n",
    "import warnings\n",
    "warnings.simplefilter(\"ignore\")\n",
    "\n",
    "# Machine Learning\n",
    "import sklearn\n",
    "import sklearn.ensemble\n",
    "import sklearn.svm\n",
    "import sklearn.preprocessing\n",
    "from sklearn.cross_validation import train_test_split\n",
    "from sklearn.grid_search import GridSearchCV\n",
    "from sklearn.metrics import confusion_matrix, classification_report, roc_curve, auc"
   ]
  },
  {
   "cell_type": "code",
   "execution_count": 2,
   "metadata": {
    "collapsed": true
   },
   "outputs": [],
   "source": [
    "# Plot\n",
    "import matplotlib.pyplot as plt\n",
    "from pylab import rcParams\n",
    "%matplotlib inline\n",
    "%config InlineBackend.figure_format='retina'\n",
    "rcParams['figure.figsize'] = 8, 5.5\n",
    "\n",
    "# Plot heat map of a 2D grid search\n",
    "def plotGridResults2D(x, y, x_label, y_label, grid_scores):\n",
    "    \n",
    "    scores = [s[1] for s in grid_scores]\n",
    "    scores = np.array(scores).reshape(len(x), len(y))\n",
    "\n",
    "    plt.figure()\n",
    "    plt.grid('off')\n",
    "    plt.imshow(scores, interpolation='nearest', cmap=plt.cm.RdYlGn)\n",
    "    plt.xlabel(y_label)\n",
    "    plt.ylabel(x_label)\n",
    "    plt.colorbar()\n",
    "    plt.xticks(np.arange(len(y)), y, rotation=45)\n",
    "    plt.yticks(np.arange(len(x)), x)\n",
    "    plt.title('Validation accuracy')\n",
    "\n",
    "\n",
    "def plotRoC(fpr, tpr):\n",
    "    plt.figure()\n",
    "    plt.plot(fpr, tpr, label='ROC curve (area = %0.2f)' % auc(fpr, tpr))\n",
    "    plt.plot([0, 1], [0, 1], 'k--')\n",
    "    plt.xlim([0.0, 1.0])\n",
    "    plt.ylim([0.0, 1.005])\n",
    "    plt.xlabel('False Positive Rate')\n",
    "    plt.ylabel('True Positive Rate')\n",
    "    plt.title('Receiver operating characteristic')\n",
    "    plt.legend(loc=\"lower right\")"
   ]
  },
  {
   "cell_type": "code",
   "execution_count": 3,
   "metadata": {
    "collapsed": false
   },
   "outputs": [
    {
     "data": {
      "text/plain": [
       "23.800000190734863"
      ]
     },
     "execution_count": 3,
     "metadata": {},
     "output_type": "execute_result"
    }
   ],
   "source": [
    "# import training dataset\n",
    "start = time.time()\n",
    "training = pickle.load(open('trainingFinal.p', 'rb'))\n",
    "X_train = training.loc[:, training.columns[1:],]\n",
    "y_train = training.loc[:, 'label']\n",
    "end = time.time()\n",
    "end - start"
   ]
  },
  {
   "cell_type": "code",
   "execution_count": 4,
   "metadata": {
    "collapsed": false
   },
   "outputs": [
    {
     "data": {
      "text/plain": [
       "0.6729998588562012"
      ]
     },
     "execution_count": 4,
     "metadata": {},
     "output_type": "execute_result"
    }
   ],
   "source": [
    "# import testing dataset\n",
    "start = time.time()\n",
    "testing = pickle.load(open('testingFinal.p', 'rb'))\n",
    "testing.loc[:, 'label'] = 1\n",
    "X_test = testing.loc[:, training.columns[1:],]\n",
    "y_test = testing.loc[:, 'label']\n",
    "end = time.time()\n",
    "end - start"
   ]
  },
  {
   "cell_type": "code",
   "execution_count": null,
   "metadata": {
    "collapsed": false
   },
   "outputs": [],
   "source": []
  },
  {
   "cell_type": "code",
   "execution_count": null,
   "metadata": {
    "collapsed": false
   },
   "outputs": [],
   "source": [
    "# SVM CV training\n",
    "start = time.time()\n",
    "C_range = np.r_[np.logspace(-2, 9, 5)]\n",
    "gamma_range = np.r_[np.logspace(-9, 2, 5)]\n",
    "gridCoarse = GridSearchCV(sklearn.svm.SVC(C=1.0, kernel='rbf', class_weight='balanced', verbose=False, max_iter=250),\n",
    "                    {'C' : C_range, 'gamma': gamma_range},\n",
    "                   scoring='roc_auc', cv=10, n_jobs=-1)\n",
    "gridCoarse.fit(X_train, y_train)\n",
    "\n",
    "C_best = np.round(np.log10(gridCoarse.best_params_['C']))\n",
    "gamma_best = np.round(np.log10(gridCoarse.best_params_['gamma']))\n",
    "\n",
    "# Fine grid\n",
    "'''\n",
    "Cfine_range = np.r_[np.logspace(C_best - 1, C_best + 1, 15)]\n",
    "gammafine_range = np.r_[np.logspace(gamma_best - 2, gamma_best + 2, 15)]\n",
    "\n",
    "gridFine = GridSearchCV(sklearn.svm.SVC(C=1.0, kernel='rbf', class_weight='balanced', verbose=False, max_iter=250),\n",
    "                    {'C' : Cfine_range, 'gamma': gammafine_range},\n",
    "                   scoring='roc_auc', cv=10, n_jobs=-1)\n",
    "gridFine.fit(X_train, y_train)\n",
    "\n",
    "svmbestClf = gridFine.best_estimator_\n",
    "svmbestClf.probability = True\n",
    "'''\n",
    "end = time.time()\n",
    "end - start"
   ]
  },
  {
   "cell_type": "code",
   "execution_count": 6,
   "metadata": {
    "collapsed": false
   },
   "outputs": [
    {
     "ename": "AttributeError",
     "evalue": "'GridSearchCV' object has no attribute 'grid_scores_'",
     "output_type": "error",
     "traceback": [
      "\u001b[1;31m---------------------------------------------------------------------------\u001b[0m",
      "\u001b[1;31mAttributeError\u001b[0m                            Traceback (most recent call last)",
      "\u001b[1;32m<ipython-input-6-83f928452dda>\u001b[0m in \u001b[0;36m<module>\u001b[1;34m()\u001b[0m\n\u001b[0;32m      1\u001b[0m \u001b[1;31m# plot coarse grid\u001b[0m\u001b[1;33m\u001b[0m\u001b[1;33m\u001b[0m\u001b[0m\n\u001b[1;32m----> 2\u001b[1;33m \u001b[0mplotGridResults2D\u001b[0m\u001b[1;33m(\u001b[0m\u001b[0mC_range\u001b[0m\u001b[1;33m,\u001b[0m \u001b[0mgamma_range\u001b[0m\u001b[1;33m,\u001b[0m \u001b[1;34m'C'\u001b[0m\u001b[1;33m,\u001b[0m \u001b[1;34m'gamma'\u001b[0m\u001b[1;33m,\u001b[0m \u001b[0mgridCoarse\u001b[0m\u001b[1;33m.\u001b[0m\u001b[0mgrid_scores_\u001b[0m\u001b[1;33m)\u001b[0m\u001b[1;33m\u001b[0m\u001b[0m\n\u001b[0m",
      "\u001b[1;31mAttributeError\u001b[0m: 'GridSearchCV' object has no attribute 'grid_scores_'"
     ]
    }
   ],
   "source": [
    "# plot coarse grid\n",
    "plotGridResults2D(C_range, gamma_range, 'C', 'gamma', gridCoarse.grid_scores_)"
   ]
  },
  {
   "cell_type": "code",
   "execution_count": null,
   "metadata": {
    "collapsed": false
   },
   "outputs": [],
   "source": [
    "# plot fine grid\n",
    "plotGridResults2D(Cfine_range, gammafine_range, 'C', 'gamma', gridFine.grid_scores_)"
   ]
  },
  {
   "cell_type": "code",
   "execution_count": null,
   "metadata": {
    "collapsed": false
   },
   "outputs": [],
   "source": [
    "svmbestClf = gridCoarse.best_estimator_\n",
    "svmbestClf.probability = True"
   ]
  },
  {
   "cell_type": "code",
   "execution_count": null,
   "metadata": {
    "collapsed": false
   },
   "outputs": [],
   "source": [
    "svmbestClf.fit(X_train, y_train)\n",
    "y_pred = svmbestClf.predict(X_test)\n",
    "\n",
    "print sklearn.metrics.classification_report(y_test, y_pred)\n",
    "\n",
    "# Predict scores\n",
    "# y_score = svmbestClf.predict_proba(X_test)[:, 1]\n",
    "\n",
    "# Plot ROC\n",
    "sfpr, stpr, _ = roc_curve(y_test, y_pred)\n",
    "\n",
    "plotRoC(sfpr, stpr)"
   ]
  },
  {
   "cell_type": "code",
   "execution_count": 7,
   "metadata": {
    "collapsed": false
   },
   "outputs": [
    {
     "data": {
      "text/plain": [
       "-0.0070002079010009766"
      ]
     },
     "execution_count": 7,
     "metadata": {},
     "output_type": "execute_result"
    }
   ],
   "source": [
    "end-start"
   ]
  },
  {
   "cell_type": "code",
   "execution_count": null,
   "metadata": {
    "collapsed": false
   },
   "outputs": [],
   "source": []
  },
  {
   "cell_type": "code",
   "execution_count": null,
   "metadata": {
    "collapsed": false
   },
   "outputs": [],
   "source": []
  },
  {
   "cell_type": "code",
   "execution_count": null,
   "metadata": {
    "collapsed": true
   },
   "outputs": [],
   "source": []
  }
 ],
 "metadata": {
  "kernelspec": {
   "display_name": "Python 2",
   "language": "python",
   "name": "python2"
  },
  "language_info": {
   "codemirror_mode": {
    "name": "ipython",
    "version": 2
   },
   "file_extension": ".py",
   "mimetype": "text/x-python",
   "name": "python",
   "nbconvert_exporter": "python",
   "pygments_lexer": "ipython2",
   "version": "2.7.11"
  }
 },
 "nbformat": 4,
 "nbformat_minor": 0
}
